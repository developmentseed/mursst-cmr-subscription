{
 "cells": [
  {
   "cell_type": "markdown",
   "id": "d6252a84-b3bd-4979-a173-cba91056f67e",
   "metadata": {},
   "source": [
    "# Testing the lambda handler"
   ]
  },
  {
   "cell_type": "code",
   "execution_count": 46,
   "id": "edcdd905-0700-4c3b-9da0-fa9e9e652b4e",
   "metadata": {},
   "outputs": [
    {
     "name": "stdout",
     "output_type": "stream",
     "text": [
      "The autoreload extension is already loaded. To reload it, use:\n",
      "  %reload_ext autoreload\n"
     ]
    }
   ],
   "source": [
    "%load_ext autoreload\n",
    "%autoreload 2\n",
    "from lambda_function import lambda_handler, open_icechunk_repo\n",
    "\n",
    "import earthaccess\n",
    "import os\n",
    "import xarray as xr\n",
    "import zarr"
   ]
  },
  {
   "cell_type": "code",
   "execution_count": 47,
   "id": "416d2208-52de-4e56-a515-b0ea165ce1d5",
   "metadata": {},
   "outputs": [],
   "source": [
    "os.environ['SECRET_ARN'] = 'arn:aws:secretsmanager:us-west-2:444055461661:secret:mursst_lambda_edl_credentials-9dKy1C'\n",
    "os.environ['S3_BUCKET_NAME'] = 'mursst-cmr-notifications'"
   ]
  },
  {
   "cell_type": "code",
   "execution_count": 48,
   "id": "ff920b67-793e-4fe3-ae82-6ce038af0e87",
   "metadata": {},
   "outputs": [],
   "source": [
    "#lambda_handler({})"
   ]
  },
  {
   "cell_type": "markdown",
   "id": "7b0b213b-bfda-42e3-85ac-1b5250e89b6e",
   "metadata": {},
   "source": [
    "# Testing the store"
   ]
  },
  {
   "cell_type": "code",
   "execution_count": null,
   "id": "fadb5413-8375-4a5c-9f8e-111dfd2b457f",
   "metadata": {},
   "outputs": [],
   "source": [
    "earthaccess.login()\n",
    "ea_creds = earthaccess.get_s3_credentials(daac='PODAAC')\n",
    "bucket = 'nasa-eodc-public'\n",
    "store_name = \"MUR-JPL-L4-GLOB-v4.1-virtual-v1-p2\""
   ]
  },
  {
   "cell_type": "code",
   "execution_count": null,
   "id": "605fc2c3-378c-4986-84b3-6fe2020c00dd",
   "metadata": {},
   "outputs": [],
   "source": [
    "repo = open_icechunk_repo(bucket, store_name, ea_creds)\n",
    "session = repo.readonly_session(branch=\"main\")\n",
    "xds = xr.open_zarr(session.store, zarr_version=3, chunks={}, consolidated=False)"
   ]
  },
  {
   "cell_type": "code",
   "execution_count": 45,
   "id": "c476af97-621c-4c52-a032-0a131573d1d4",
   "metadata": {},
   "outputs": [
    {
     "data": {
      "text/plain": [
       "array(284.17548539)"
      ]
     },
     "execution_count": 45,
     "metadata": {},
     "output_type": "execute_result"
    }
   ],
   "source": [
    "xds.sel(lat=slice(47.6, 47.7), lon=slice(-122.4, -122.3)).analysed_sst.mean().values"
   ]
  },
  {
   "cell_type": "markdown",
   "id": "0cb434fa-f083-4b8f-8604-08bd2f0a66de",
   "metadata": {},
   "source": [
    "# Deleting data"
   ]
  },
  {
   "cell_type": "code",
   "execution_count": 31,
   "id": "69543cdd-a254-45dd-bbb5-1a5c090c5cd8",
   "metadata": {},
   "outputs": [
    {
     "name": "stderr",
     "output_type": "stream",
     "text": [
      "/opt/conda/lib/python3.11/site-packages/numcodecs/zarr3.py:145: UserWarning: Numcodecs codecs are not in the Zarr version 3 specification and may not be supported by other zarr implementations.\n",
      "  super().__init__(**codec_config)\n"
     ]
    }
   ],
   "source": [
    "session = repo.writable_session(branch=\"main\")\n",
    "store = session.store\n",
    "variables = [\"analysed_sst\", \"analysis_error\", \"sea_ice_fraction\", \"mask\", \"time\"]\n",
    "resize = 364\n",
    "for var in variables:\n",
    "    # Open your array\n",
    "    group = zarr.open_group(store)\n",
    "    array = group[var]\n",
    "    \n",
    "    # Truncate the array to remove time indices > 364\n",
    "    # This effectively removes chunks for indices 365, 366, etc.\n",
    "    new_shape = list(array.shape)\n",
    "    new_shape[0] = 364  # Assuming time is the first dimension\n",
    "    array.resize(new_shape)"
   ]
  },
  {
   "cell_type": "code",
   "execution_count": 38,
   "id": "38b1b1b9-55f7-4ba8-80f8-ca750fac4631",
   "metadata": {},
   "outputs": [
    {
     "data": {
      "text/plain": [
       "'44B9XPA2C0QH6FVT5AF0'"
      ]
     },
     "execution_count": 38,
     "metadata": {},
     "output_type": "execute_result"
    }
   ],
   "source": [
    "# DANGER!\n",
    "# session.commit(\"Removed data for time > 2025-05-31\")"
   ]
  }
 ],
 "metadata": {
  "kernelspec": {
   "display_name": "Python 3 (ipykernel)",
   "language": "python",
   "name": "python3"
  },
  "language_info": {
   "codemirror_mode": {
    "name": "ipython",
    "version": 3
   },
   "file_extension": ".py",
   "mimetype": "text/x-python",
   "name": "python",
   "nbconvert_exporter": "python",
   "pygments_lexer": "ipython3",
   "version": "3.11.10"
  }
 },
 "nbformat": 4,
 "nbformat_minor": 5
}
