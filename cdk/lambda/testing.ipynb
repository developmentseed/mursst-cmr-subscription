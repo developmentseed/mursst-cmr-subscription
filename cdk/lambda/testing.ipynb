{
 "cells": [
  {
   "cell_type": "markdown",
   "id": "d6252a84-b3bd-4979-a173-cba91056f67e",
   "metadata": {},
   "source": [
    "# Testing the lambda handler"
   ]
  },
  {
   "cell_type": "code",
   "execution_count": 3,
   "id": "edcdd905-0700-4c3b-9da0-fa9e9e652b4e",
   "metadata": {},
   "outputs": [],
   "source": [
    "from lambda_function import lambda_handler, open_icechunk_repo\n",
    "import earthaccess\n",
    "import os\n",
    "import xarray as xr\n",
    "import zarr\n",
    "\n",
    "import warnings\n",
    "warnings.filterwarnings(\"ignore\") "
   ]
  },
  {
   "cell_type": "code",
   "execution_count": 4,
   "id": "416d2208-52de-4e56-a515-b0ea165ce1d5",
   "metadata": {},
   "outputs": [],
   "source": [
    "os.environ['SECRET_ARN'] = 'arn:aws:secretsmanager:us-west-2:444055461661:secret:mursst_lambda_edl_credentials-9dKy1C'\n",
    "os.environ['DRY_RUN'] = \"true\""
   ]
  },
  {
   "cell_type": "code",
   "execution_count": 14,
   "id": "ff920b67-793e-4fe3-ae82-6ce038af0e87",
   "metadata": {},
   "outputs": [],
   "source": [
    "lambda_handler({})"
   ]
  },
  {
   "cell_type": "markdown",
   "id": "7b0b213b-bfda-42e3-85ac-1b5250e89b6e",
   "metadata": {},
   "source": [
    "# Testing the store"
   ]
  },
  {
   "cell_type": "code",
   "execution_count": 5,
   "id": "fadb5413-8375-4a5c-9f8e-111dfd2b457f",
   "metadata": {},
   "outputs": [
    {
     "name": "stdin",
     "output_type": "stream",
     "text": [
      "Enter your Earthdata Login username:  aimeeb\n",
      "Enter your Earthdata password:  ········\n"
     ]
    }
   ],
   "source": [
    "earthaccess.login()\n",
    "ea_creds = earthaccess.get_s3_credentials(daac='PODAAC')\n",
    "bucket = 'nasa-eodc-public'\n",
    "store_name = \"MUR-JPL-L4-GLOB-v4.1-virtual-v1-p2\"\n",
    "lat_slice = slice(47.6, 47.7)\n",
    "lon_slice = slice(-122.4, -122.3)"
   ]
  },
  {
   "cell_type": "code",
   "execution_count": 12,
   "id": "e8f6b892-477d-43be-bf6c-9a720104ad37",
   "metadata": {},
   "outputs": [],
   "source": [
    "time_range = [\"2025-06-30\", \"2025-07-02\"]"
   ]
  },
  {
   "cell_type": "markdown",
   "id": "311a5dee-3d74-49b2-89e7-a7462c3f534a",
   "metadata": {},
   "source": [
    "### Get a value from the icechunk store"
   ]
  },
  {
   "cell_type": "code",
   "execution_count": 6,
   "id": "605fc2c3-378c-4986-84b3-6fe2020c00dd",
   "metadata": {},
   "outputs": [],
   "source": [
    "repo = open_icechunk_repo(bucket, store_name, ea_creds)\n",
    "session = repo.readonly_session(branch=\"main\")\n",
    "xds = xr.open_zarr(session.store, zarr_version=3, chunks={}, consolidated=False)"
   ]
  },
  {
   "cell_type": "code",
   "execution_count": 16,
   "id": "bfa9d9d6-3f19-4788-bfe2-b1b5efa620c7",
   "metadata": {},
   "outputs": [
    {
     "data": {
      "text/plain": [
       "slice('2025-06-30', '2025-07-02', None)"
      ]
     },
     "execution_count": 16,
     "metadata": {},
     "output_type": "execute_result"
    }
   ],
   "source": [
    "slice(*time_range)"
   ]
  },
  {
   "cell_type": "code",
   "execution_count": 21,
   "id": "c476af97-621c-4c52-a032-0a131573d1d4",
   "metadata": {},
   "outputs": [
    {
     "name": "stdout",
     "output_type": "stream",
     "text": [
      "(1, 11, 11)\n"
     ]
    },
    {
     "ename": "error",
     "evalue": "Error -3 while decompressing data: incorrect header check",
     "output_type": "error",
     "traceback": [
      "\u001b[0;31m---------------------------------------------------------------------------\u001b[0m",
      "\u001b[0;31merror\u001b[0m                                     Traceback (most recent call last)",
      "Cell \u001b[0;32mIn[21], line 3\u001b[0m\n\u001b[1;32m      1\u001b[0m subset \u001b[38;5;241m=\u001b[39m xds\u001b[38;5;241m.\u001b[39msel(lat\u001b[38;5;241m=\u001b[39mlat_slice, lon\u001b[38;5;241m=\u001b[39mlon_slice, time\u001b[38;5;241m=\u001b[39m\u001b[38;5;124m'\u001b[39m\u001b[38;5;124m2025-07-01\u001b[39m\u001b[38;5;124m'\u001b[39m)\n\u001b[1;32m      2\u001b[0m \u001b[38;5;28mprint\u001b[39m(subset\u001b[38;5;241m.\u001b[39manalysed_sst\u001b[38;5;241m.\u001b[39mshape)\n\u001b[0;32m----> 3\u001b[0m \u001b[43msubset\u001b[49m\u001b[38;5;241;43m.\u001b[39;49m\u001b[43manalysed_sst\u001b[49m\u001b[38;5;241;43m.\u001b[39;49m\u001b[43mmean\u001b[49m\u001b[43m(\u001b[49m\u001b[43m)\u001b[49m\u001b[38;5;241;43m.\u001b[39;49m\u001b[43mvalues\u001b[49m\n",
      "File \u001b[0;32m/opt/conda/lib/python3.11/site-packages/xarray/core/dataarray.py:815\u001b[0m, in \u001b[0;36mDataArray.values\u001b[0;34m(self)\u001b[0m\n\u001b[1;32m    802\u001b[0m \u001b[38;5;129m@property\u001b[39m\n\u001b[1;32m    803\u001b[0m \u001b[38;5;28;01mdef\u001b[39;00m \u001b[38;5;21mvalues\u001b[39m(\u001b[38;5;28mself\u001b[39m) \u001b[38;5;241m-\u001b[39m\u001b[38;5;241m>\u001b[39m np\u001b[38;5;241m.\u001b[39mndarray:\n\u001b[1;32m    804\u001b[0m \u001b[38;5;250m    \u001b[39m\u001b[38;5;124;03m\"\"\"\u001b[39;00m\n\u001b[1;32m    805\u001b[0m \u001b[38;5;124;03m    The array's data converted to numpy.ndarray.\u001b[39;00m\n\u001b[1;32m    806\u001b[0m \n\u001b[0;32m   (...)\u001b[0m\n\u001b[1;32m    813\u001b[0m \u001b[38;5;124;03m    to this array may be reflected in the DataArray as well.\u001b[39;00m\n\u001b[1;32m    814\u001b[0m \u001b[38;5;124;03m    \"\"\"\u001b[39;00m\n\u001b[0;32m--> 815\u001b[0m     \u001b[38;5;28;01mreturn\u001b[39;00m \u001b[38;5;28;43mself\u001b[39;49m\u001b[38;5;241;43m.\u001b[39;49m\u001b[43mvariable\u001b[49m\u001b[38;5;241;43m.\u001b[39;49m\u001b[43mvalues\u001b[49m\n",
      "File \u001b[0;32m/opt/conda/lib/python3.11/site-packages/xarray/core/variable.py:516\u001b[0m, in \u001b[0;36mVariable.values\u001b[0;34m(self)\u001b[0m\n\u001b[1;32m    513\u001b[0m \u001b[38;5;129m@property\u001b[39m\n\u001b[1;32m    514\u001b[0m \u001b[38;5;28;01mdef\u001b[39;00m \u001b[38;5;21mvalues\u001b[39m(\u001b[38;5;28mself\u001b[39m) \u001b[38;5;241m-\u001b[39m\u001b[38;5;241m>\u001b[39m np\u001b[38;5;241m.\u001b[39mndarray:\n\u001b[1;32m    515\u001b[0m \u001b[38;5;250m    \u001b[39m\u001b[38;5;124;03m\"\"\"The variable's data as a numpy.ndarray\"\"\"\u001b[39;00m\n\u001b[0;32m--> 516\u001b[0m     \u001b[38;5;28;01mreturn\u001b[39;00m \u001b[43m_as_array_or_item\u001b[49m\u001b[43m(\u001b[49m\u001b[38;5;28;43mself\u001b[39;49m\u001b[38;5;241;43m.\u001b[39;49m\u001b[43m_data\u001b[49m\u001b[43m)\u001b[49m\n",
      "File \u001b[0;32m/opt/conda/lib/python3.11/site-packages/xarray/core/variable.py:302\u001b[0m, in \u001b[0;36m_as_array_or_item\u001b[0;34m(data)\u001b[0m\n\u001b[1;32m    288\u001b[0m \u001b[38;5;28;01mdef\u001b[39;00m \u001b[38;5;21m_as_array_or_item\u001b[39m(data):\n\u001b[1;32m    289\u001b[0m \u001b[38;5;250m    \u001b[39m\u001b[38;5;124;03m\"\"\"Return the given values as a numpy array, or as an individual item if\u001b[39;00m\n\u001b[1;32m    290\u001b[0m \u001b[38;5;124;03m    it's a 0d datetime64 or timedelta64 array.\u001b[39;00m\n\u001b[1;32m    291\u001b[0m \n\u001b[0;32m   (...)\u001b[0m\n\u001b[1;32m    300\u001b[0m \u001b[38;5;124;03m    TODO: remove this (replace with np.asarray) once these issues are fixed\u001b[39;00m\n\u001b[1;32m    301\u001b[0m \u001b[38;5;124;03m    \"\"\"\u001b[39;00m\n\u001b[0;32m--> 302\u001b[0m     data \u001b[38;5;241m=\u001b[39m \u001b[43mnp\u001b[49m\u001b[38;5;241;43m.\u001b[39;49m\u001b[43masarray\u001b[49m\u001b[43m(\u001b[49m\u001b[43mdata\u001b[49m\u001b[43m)\u001b[49m\n\u001b[1;32m    303\u001b[0m     \u001b[38;5;28;01mif\u001b[39;00m data\u001b[38;5;241m.\u001b[39mndim \u001b[38;5;241m==\u001b[39m \u001b[38;5;241m0\u001b[39m:\n\u001b[1;32m    304\u001b[0m         kind \u001b[38;5;241m=\u001b[39m data\u001b[38;5;241m.\u001b[39mdtype\u001b[38;5;241m.\u001b[39mkind\n",
      "File \u001b[0;32m/opt/conda/lib/python3.11/site-packages/dask/array/core.py:1724\u001b[0m, in \u001b[0;36mArray.__array__\u001b[0;34m(self, dtype, copy, **kwargs)\u001b[0m\n\u001b[1;32m   1717\u001b[0m \u001b[38;5;28;01mif\u001b[39;00m copy \u001b[38;5;129;01mis\u001b[39;00m \u001b[38;5;28;01mFalse\u001b[39;00m:\n\u001b[1;32m   1718\u001b[0m     warnings\u001b[38;5;241m.\u001b[39mwarn(\n\u001b[1;32m   1719\u001b[0m         \u001b[38;5;124m\"\u001b[39m\u001b[38;5;124mCan\u001b[39m\u001b[38;5;124m'\u001b[39m\u001b[38;5;124mt acquire a memory view of a Dask array. \u001b[39m\u001b[38;5;124m\"\u001b[39m\n\u001b[1;32m   1720\u001b[0m         \u001b[38;5;124m\"\u001b[39m\u001b[38;5;124mThis will raise in the future.\u001b[39m\u001b[38;5;124m\"\u001b[39m,\n\u001b[1;32m   1721\u001b[0m         \u001b[38;5;167;01mFutureWarning\u001b[39;00m,\n\u001b[1;32m   1722\u001b[0m     )\n\u001b[0;32m-> 1724\u001b[0m x \u001b[38;5;241m=\u001b[39m \u001b[38;5;28;43mself\u001b[39;49m\u001b[38;5;241;43m.\u001b[39;49m\u001b[43mcompute\u001b[49m\u001b[43m(\u001b[49m\u001b[43m)\u001b[49m\n\u001b[1;32m   1726\u001b[0m \u001b[38;5;66;03m# Apply requested dtype and convert non-numpy backends to numpy.\u001b[39;00m\n\u001b[1;32m   1727\u001b[0m \u001b[38;5;66;03m# If copy is True, numpy is going to perform its own deep copy\u001b[39;00m\n\u001b[1;32m   1728\u001b[0m \u001b[38;5;66;03m# after this method returns.\u001b[39;00m\n\u001b[1;32m   1729\u001b[0m \u001b[38;5;66;03m# If copy is None, finalize() ensures that the returned object\u001b[39;00m\n\u001b[1;32m   1730\u001b[0m \u001b[38;5;66;03m# does not share memory with an object stored in the graph or on a\u001b[39;00m\n\u001b[1;32m   1731\u001b[0m \u001b[38;5;66;03m# process-local Worker.\u001b[39;00m\n\u001b[1;32m   1732\u001b[0m \u001b[38;5;28;01mreturn\u001b[39;00m np\u001b[38;5;241m.\u001b[39masarray(x, dtype\u001b[38;5;241m=\u001b[39mdtype)\n",
      "File \u001b[0;32m/opt/conda/lib/python3.11/site-packages/dask/base.py:373\u001b[0m, in \u001b[0;36mDaskMethodsMixin.compute\u001b[0;34m(self, **kwargs)\u001b[0m\n\u001b[1;32m    349\u001b[0m \u001b[38;5;28;01mdef\u001b[39;00m \u001b[38;5;21mcompute\u001b[39m(\u001b[38;5;28mself\u001b[39m, \u001b[38;5;241m*\u001b[39m\u001b[38;5;241m*\u001b[39mkwargs):\n\u001b[1;32m    350\u001b[0m \u001b[38;5;250m    \u001b[39m\u001b[38;5;124;03m\"\"\"Compute this dask collection\u001b[39;00m\n\u001b[1;32m    351\u001b[0m \n\u001b[1;32m    352\u001b[0m \u001b[38;5;124;03m    This turns a lazy Dask collection into its in-memory equivalent.\u001b[39;00m\n\u001b[0;32m   (...)\u001b[0m\n\u001b[1;32m    371\u001b[0m \u001b[38;5;124;03m    dask.compute\u001b[39;00m\n\u001b[1;32m    372\u001b[0m \u001b[38;5;124;03m    \"\"\"\u001b[39;00m\n\u001b[0;32m--> 373\u001b[0m     (result,) \u001b[38;5;241m=\u001b[39m \u001b[43mcompute\u001b[49m\u001b[43m(\u001b[49m\u001b[38;5;28;43mself\u001b[39;49m\u001b[43m,\u001b[49m\u001b[43m \u001b[49m\u001b[43mtraverse\u001b[49m\u001b[38;5;241;43m=\u001b[39;49m\u001b[38;5;28;43;01mFalse\u001b[39;49;00m\u001b[43m,\u001b[49m\u001b[43m \u001b[49m\u001b[38;5;241;43m*\u001b[39;49m\u001b[38;5;241;43m*\u001b[39;49m\u001b[43mkwargs\u001b[49m\u001b[43m)\u001b[49m\n\u001b[1;32m    374\u001b[0m     \u001b[38;5;28;01mreturn\u001b[39;00m result\n",
      "File \u001b[0;32m/opt/conda/lib/python3.11/site-packages/dask/base.py:681\u001b[0m, in \u001b[0;36mcompute\u001b[0;34m(traverse, optimize_graph, scheduler, get, *args, **kwargs)\u001b[0m\n\u001b[1;32m    678\u001b[0m     expr \u001b[38;5;241m=\u001b[39m expr\u001b[38;5;241m.\u001b[39moptimize()\n\u001b[1;32m    679\u001b[0m     keys \u001b[38;5;241m=\u001b[39m \u001b[38;5;28mlist\u001b[39m(flatten(expr\u001b[38;5;241m.\u001b[39m__dask_keys__()))\n\u001b[0;32m--> 681\u001b[0m     results \u001b[38;5;241m=\u001b[39m \u001b[43mschedule\u001b[49m\u001b[43m(\u001b[49m\u001b[43mexpr\u001b[49m\u001b[43m,\u001b[49m\u001b[43m \u001b[49m\u001b[43mkeys\u001b[49m\u001b[43m,\u001b[49m\u001b[43m \u001b[49m\u001b[38;5;241;43m*\u001b[39;49m\u001b[38;5;241;43m*\u001b[39;49m\u001b[43mkwargs\u001b[49m\u001b[43m)\u001b[49m\n\u001b[1;32m    683\u001b[0m \u001b[38;5;28;01mreturn\u001b[39;00m repack(results)\n",
      "File \u001b[0;32m/opt/conda/lib/python3.11/site-packages/xarray/core/indexing.py:575\u001b[0m, in \u001b[0;36mImplicitToExplicitIndexingAdapter.__array__\u001b[0;34m(self, dtype, copy)\u001b[0m\n\u001b[1;32m    571\u001b[0m \u001b[38;5;28;01mdef\u001b[39;00m \u001b[38;5;21m__array__\u001b[39m(\n\u001b[1;32m    572\u001b[0m     \u001b[38;5;28mself\u001b[39m, dtype: np\u001b[38;5;241m.\u001b[39mtyping\u001b[38;5;241m.\u001b[39mDTypeLike \u001b[38;5;241m=\u001b[39m \u001b[38;5;28;01mNone\u001b[39;00m, \u001b[38;5;241m/\u001b[39m, \u001b[38;5;241m*\u001b[39m, copy: \u001b[38;5;28mbool\u001b[39m \u001b[38;5;241m|\u001b[39m \u001b[38;5;28;01mNone\u001b[39;00m \u001b[38;5;241m=\u001b[39m \u001b[38;5;28;01mNone\u001b[39;00m\n\u001b[1;32m    573\u001b[0m ) \u001b[38;5;241m-\u001b[39m\u001b[38;5;241m>\u001b[39m np\u001b[38;5;241m.\u001b[39mndarray:\n\u001b[1;32m    574\u001b[0m     \u001b[38;5;28;01mif\u001b[39;00m Version(np\u001b[38;5;241m.\u001b[39m__version__) \u001b[38;5;241m>\u001b[39m\u001b[38;5;241m=\u001b[39m Version(\u001b[38;5;124m\"\u001b[39m\u001b[38;5;124m2.0.0\u001b[39m\u001b[38;5;124m\"\u001b[39m):\n\u001b[0;32m--> 575\u001b[0m         \u001b[38;5;28;01mreturn\u001b[39;00m np\u001b[38;5;241m.\u001b[39masarray(\u001b[38;5;28;43mself\u001b[39;49m\u001b[38;5;241;43m.\u001b[39;49m\u001b[43mget_duck_array\u001b[49m\u001b[43m(\u001b[49m\u001b[43m)\u001b[49m, dtype\u001b[38;5;241m=\u001b[39mdtype, copy\u001b[38;5;241m=\u001b[39mcopy)\n\u001b[1;32m    576\u001b[0m     \u001b[38;5;28;01melse\u001b[39;00m:\n\u001b[1;32m    577\u001b[0m         \u001b[38;5;28;01mreturn\u001b[39;00m np\u001b[38;5;241m.\u001b[39masarray(\u001b[38;5;28mself\u001b[39m\u001b[38;5;241m.\u001b[39mget_duck_array(), dtype\u001b[38;5;241m=\u001b[39mdtype)\n",
      "File \u001b[0;32m/opt/conda/lib/python3.11/site-packages/xarray/core/indexing.py:580\u001b[0m, in \u001b[0;36mImplicitToExplicitIndexingAdapter.get_duck_array\u001b[0;34m(self)\u001b[0m\n\u001b[1;32m    579\u001b[0m \u001b[38;5;28;01mdef\u001b[39;00m \u001b[38;5;21mget_duck_array\u001b[39m(\u001b[38;5;28mself\u001b[39m):\n\u001b[0;32m--> 580\u001b[0m     \u001b[38;5;28;01mreturn\u001b[39;00m \u001b[38;5;28;43mself\u001b[39;49m\u001b[38;5;241;43m.\u001b[39;49m\u001b[43marray\u001b[49m\u001b[38;5;241;43m.\u001b[39;49m\u001b[43mget_duck_array\u001b[49m\u001b[43m(\u001b[49m\u001b[43m)\u001b[49m\n",
      "File \u001b[0;32m/opt/conda/lib/python3.11/site-packages/xarray/core/indexing.py:791\u001b[0m, in \u001b[0;36mCopyOnWriteArray.get_duck_array\u001b[0;34m(self)\u001b[0m\n\u001b[1;32m    790\u001b[0m \u001b[38;5;28;01mdef\u001b[39;00m \u001b[38;5;21mget_duck_array\u001b[39m(\u001b[38;5;28mself\u001b[39m):\n\u001b[0;32m--> 791\u001b[0m     \u001b[38;5;28;01mreturn\u001b[39;00m \u001b[38;5;28;43mself\u001b[39;49m\u001b[38;5;241;43m.\u001b[39;49m\u001b[43marray\u001b[49m\u001b[38;5;241;43m.\u001b[39;49m\u001b[43mget_duck_array\u001b[49m\u001b[43m(\u001b[49m\u001b[43m)\u001b[49m\n",
      "File \u001b[0;32m/opt/conda/lib/python3.11/site-packages/xarray/core/indexing.py:661\u001b[0m, in \u001b[0;36mLazilyIndexedArray.get_duck_array\u001b[0;34m(self)\u001b[0m\n\u001b[1;32m    656\u001b[0m \u001b[38;5;66;03m# self.array[self.key] is now a numpy array when\u001b[39;00m\n\u001b[1;32m    657\u001b[0m \u001b[38;5;66;03m# self.array is a BackendArray subclass\u001b[39;00m\n\u001b[1;32m    658\u001b[0m \u001b[38;5;66;03m# and self.key is BasicIndexer((slice(None, None, None),))\u001b[39;00m\n\u001b[1;32m    659\u001b[0m \u001b[38;5;66;03m# so we need the explicit check for ExplicitlyIndexed\u001b[39;00m\n\u001b[1;32m    660\u001b[0m \u001b[38;5;28;01mif\u001b[39;00m \u001b[38;5;28misinstance\u001b[39m(array, ExplicitlyIndexed):\n\u001b[0;32m--> 661\u001b[0m     array \u001b[38;5;241m=\u001b[39m \u001b[43marray\u001b[49m\u001b[38;5;241;43m.\u001b[39;49m\u001b[43mget_duck_array\u001b[49m\u001b[43m(\u001b[49m\u001b[43m)\u001b[49m\n\u001b[1;32m    662\u001b[0m \u001b[38;5;28;01mreturn\u001b[39;00m _wrap_numpy_scalars(array)\n",
      "File \u001b[0;32m/opt/conda/lib/python3.11/site-packages/xarray/coding/common.py:76\u001b[0m, in \u001b[0;36m_ElementwiseFunctionArray.get_duck_array\u001b[0;34m(self)\u001b[0m\n\u001b[1;32m     75\u001b[0m \u001b[38;5;28;01mdef\u001b[39;00m \u001b[38;5;21mget_duck_array\u001b[39m(\u001b[38;5;28mself\u001b[39m):\n\u001b[0;32m---> 76\u001b[0m     \u001b[38;5;28;01mreturn\u001b[39;00m \u001b[38;5;28mself\u001b[39m\u001b[38;5;241m.\u001b[39mfunc(\u001b[38;5;28;43mself\u001b[39;49m\u001b[38;5;241;43m.\u001b[39;49m\u001b[43marray\u001b[49m\u001b[38;5;241;43m.\u001b[39;49m\u001b[43mget_duck_array\u001b[49m\u001b[43m(\u001b[49m\u001b[43m)\u001b[49m)\n",
      "File \u001b[0;32m/opt/conda/lib/python3.11/site-packages/xarray/coding/common.py:76\u001b[0m, in \u001b[0;36m_ElementwiseFunctionArray.get_duck_array\u001b[0;34m(self)\u001b[0m\n\u001b[1;32m     75\u001b[0m \u001b[38;5;28;01mdef\u001b[39;00m \u001b[38;5;21mget_duck_array\u001b[39m(\u001b[38;5;28mself\u001b[39m):\n\u001b[0;32m---> 76\u001b[0m     \u001b[38;5;28;01mreturn\u001b[39;00m \u001b[38;5;28mself\u001b[39m\u001b[38;5;241m.\u001b[39mfunc(\u001b[38;5;28;43mself\u001b[39;49m\u001b[38;5;241;43m.\u001b[39;49m\u001b[43marray\u001b[49m\u001b[38;5;241;43m.\u001b[39;49m\u001b[43mget_duck_array\u001b[49m\u001b[43m(\u001b[49m\u001b[43m)\u001b[49m)\n",
      "File \u001b[0;32m/opt/conda/lib/python3.11/site-packages/xarray/core/indexing.py:654\u001b[0m, in \u001b[0;36mLazilyIndexedArray.get_duck_array\u001b[0;34m(self)\u001b[0m\n\u001b[1;32m    650\u001b[0m     array \u001b[38;5;241m=\u001b[39m apply_indexer(\u001b[38;5;28mself\u001b[39m\u001b[38;5;241m.\u001b[39marray, \u001b[38;5;28mself\u001b[39m\u001b[38;5;241m.\u001b[39mkey)\n\u001b[1;32m    651\u001b[0m \u001b[38;5;28;01melse\u001b[39;00m:\n\u001b[1;32m    652\u001b[0m     \u001b[38;5;66;03m# If the array is not an ExplicitlyIndexedNDArrayMixin,\u001b[39;00m\n\u001b[1;32m    653\u001b[0m     \u001b[38;5;66;03m# it may wrap a BackendArray so use its __getitem__\u001b[39;00m\n\u001b[0;32m--> 654\u001b[0m     array \u001b[38;5;241m=\u001b[39m \u001b[38;5;28;43mself\u001b[39;49m\u001b[38;5;241;43m.\u001b[39;49m\u001b[43marray\u001b[49m\u001b[43m[\u001b[49m\u001b[38;5;28;43mself\u001b[39;49m\u001b[38;5;241;43m.\u001b[39;49m\u001b[43mkey\u001b[49m\u001b[43m]\u001b[49m\n\u001b[1;32m    656\u001b[0m \u001b[38;5;66;03m# self.array[self.key] is now a numpy array when\u001b[39;00m\n\u001b[1;32m    657\u001b[0m \u001b[38;5;66;03m# self.array is a BackendArray subclass\u001b[39;00m\n\u001b[1;32m    658\u001b[0m \u001b[38;5;66;03m# and self.key is BasicIndexer((slice(None, None, None),))\u001b[39;00m\n\u001b[1;32m    659\u001b[0m \u001b[38;5;66;03m# so we need the explicit check for ExplicitlyIndexed\u001b[39;00m\n\u001b[1;32m    660\u001b[0m \u001b[38;5;28;01mif\u001b[39;00m \u001b[38;5;28misinstance\u001b[39m(array, ExplicitlyIndexed):\n",
      "File \u001b[0;32m/opt/conda/lib/python3.11/site-packages/xarray/backends/zarr.py:223\u001b[0m, in \u001b[0;36mZarrArrayWrapper.__getitem__\u001b[0;34m(self, key)\u001b[0m\n\u001b[1;32m    221\u001b[0m \u001b[38;5;28;01melif\u001b[39;00m \u001b[38;5;28misinstance\u001b[39m(key, indexing\u001b[38;5;241m.\u001b[39mOuterIndexer):\n\u001b[1;32m    222\u001b[0m     method \u001b[38;5;241m=\u001b[39m \u001b[38;5;28mself\u001b[39m\u001b[38;5;241m.\u001b[39m_oindex\n\u001b[0;32m--> 223\u001b[0m \u001b[38;5;28;01mreturn\u001b[39;00m \u001b[43mindexing\u001b[49m\u001b[38;5;241;43m.\u001b[39;49m\u001b[43mexplicit_indexing_adapter\u001b[49m\u001b[43m(\u001b[49m\n\u001b[1;32m    224\u001b[0m \u001b[43m    \u001b[49m\u001b[43mkey\u001b[49m\u001b[43m,\u001b[49m\u001b[43m \u001b[49m\u001b[43marray\u001b[49m\u001b[38;5;241;43m.\u001b[39;49m\u001b[43mshape\u001b[49m\u001b[43m,\u001b[49m\u001b[43m \u001b[49m\u001b[43mindexing\u001b[49m\u001b[38;5;241;43m.\u001b[39;49m\u001b[43mIndexingSupport\u001b[49m\u001b[38;5;241;43m.\u001b[39;49m\u001b[43mVECTORIZED\u001b[49m\u001b[43m,\u001b[49m\u001b[43m \u001b[49m\u001b[43mmethod\u001b[49m\n\u001b[1;32m    225\u001b[0m \u001b[43m\u001b[49m\u001b[43m)\u001b[49m\n",
      "File \u001b[0;32m/opt/conda/lib/python3.11/site-packages/xarray/core/indexing.py:1015\u001b[0m, in \u001b[0;36mexplicit_indexing_adapter\u001b[0;34m(key, shape, indexing_support, raw_indexing_method)\u001b[0m\n\u001b[1;32m    993\u001b[0m \u001b[38;5;250m\u001b[39m\u001b[38;5;124;03m\"\"\"Support explicit indexing by delegating to a raw indexing method.\u001b[39;00m\n\u001b[1;32m    994\u001b[0m \n\u001b[1;32m    995\u001b[0m \u001b[38;5;124;03mOuter and/or vectorized indexers are supported by indexing a second time\u001b[39;00m\n\u001b[0;32m   (...)\u001b[0m\n\u001b[1;32m   1012\u001b[0m \u001b[38;5;124;03mIndexing result, in the form of a duck numpy-array.\u001b[39;00m\n\u001b[1;32m   1013\u001b[0m \u001b[38;5;124;03m\"\"\"\u001b[39;00m\n\u001b[1;32m   1014\u001b[0m raw_key, numpy_indices \u001b[38;5;241m=\u001b[39m decompose_indexer(key, shape, indexing_support)\n\u001b[0;32m-> 1015\u001b[0m result \u001b[38;5;241m=\u001b[39m \u001b[43mraw_indexing_method\u001b[49m\u001b[43m(\u001b[49m\u001b[43mraw_key\u001b[49m\u001b[38;5;241;43m.\u001b[39;49m\u001b[43mtuple\u001b[49m\u001b[43m)\u001b[49m\n\u001b[1;32m   1016\u001b[0m \u001b[38;5;28;01mif\u001b[39;00m numpy_indices\u001b[38;5;241m.\u001b[39mtuple:\n\u001b[1;32m   1017\u001b[0m     \u001b[38;5;66;03m# index the loaded duck array\u001b[39;00m\n\u001b[1;32m   1018\u001b[0m     indexable \u001b[38;5;241m=\u001b[39m as_indexable(result)\n",
      "File \u001b[0;32m/opt/conda/lib/python3.11/site-packages/xarray/backends/zarr.py:213\u001b[0m, in \u001b[0;36mZarrArrayWrapper._getitem\u001b[0;34m(self, key)\u001b[0m\n\u001b[1;32m    212\u001b[0m \u001b[38;5;28;01mdef\u001b[39;00m \u001b[38;5;21m_getitem\u001b[39m(\u001b[38;5;28mself\u001b[39m, key):\n\u001b[0;32m--> 213\u001b[0m     \u001b[38;5;28;01mreturn\u001b[39;00m \u001b[38;5;28;43mself\u001b[39;49m\u001b[38;5;241;43m.\u001b[39;49m\u001b[43m_array\u001b[49m\u001b[43m[\u001b[49m\u001b[43mkey\u001b[49m\u001b[43m]\u001b[49m\n",
      "File \u001b[0;32m/opt/conda/lib/python3.11/site-packages/zarr/core/array.py:2441\u001b[0m, in \u001b[0;36mArray.__getitem__\u001b[0;34m(self, selection)\u001b[0m\n\u001b[1;32m   2439\u001b[0m     \u001b[38;5;28;01mreturn\u001b[39;00m \u001b[38;5;28mself\u001b[39m\u001b[38;5;241m.\u001b[39mvindex[cast(CoordinateSelection \u001b[38;5;241m|\u001b[39m MaskSelection, selection)]\n\u001b[1;32m   2440\u001b[0m \u001b[38;5;28;01melif\u001b[39;00m is_pure_orthogonal_indexing(pure_selection, \u001b[38;5;28mself\u001b[39m\u001b[38;5;241m.\u001b[39mndim):\n\u001b[0;32m-> 2441\u001b[0m     \u001b[38;5;28;01mreturn\u001b[39;00m \u001b[38;5;28;43mself\u001b[39;49m\u001b[38;5;241;43m.\u001b[39;49m\u001b[43mget_orthogonal_selection\u001b[49m\u001b[43m(\u001b[49m\u001b[43mpure_selection\u001b[49m\u001b[43m,\u001b[49m\u001b[43m \u001b[49m\u001b[43mfields\u001b[49m\u001b[38;5;241;43m=\u001b[39;49m\u001b[43mfields\u001b[49m\u001b[43m)\u001b[49m\n\u001b[1;32m   2442\u001b[0m \u001b[38;5;28;01melse\u001b[39;00m:\n\u001b[1;32m   2443\u001b[0m     \u001b[38;5;28;01mreturn\u001b[39;00m \u001b[38;5;28mself\u001b[39m\u001b[38;5;241m.\u001b[39mget_basic_selection(cast(BasicSelection, pure_selection), fields\u001b[38;5;241m=\u001b[39mfields)\n",
      "File \u001b[0;32m/opt/conda/lib/python3.11/site-packages/zarr/_compat.py:43\u001b[0m, in \u001b[0;36m_deprecate_positional_args.<locals>._inner_deprecate_positional_args.<locals>.inner_f\u001b[0;34m(*args, **kwargs)\u001b[0m\n\u001b[1;32m     41\u001b[0m extra_args \u001b[38;5;241m=\u001b[39m \u001b[38;5;28mlen\u001b[39m(args) \u001b[38;5;241m-\u001b[39m \u001b[38;5;28mlen\u001b[39m(all_args)\n\u001b[1;32m     42\u001b[0m \u001b[38;5;28;01mif\u001b[39;00m extra_args \u001b[38;5;241m<\u001b[39m\u001b[38;5;241m=\u001b[39m \u001b[38;5;241m0\u001b[39m:\n\u001b[0;32m---> 43\u001b[0m     \u001b[38;5;28;01mreturn\u001b[39;00m \u001b[43mf\u001b[49m\u001b[43m(\u001b[49m\u001b[38;5;241;43m*\u001b[39;49m\u001b[43margs\u001b[49m\u001b[43m,\u001b[49m\u001b[43m \u001b[49m\u001b[38;5;241;43m*\u001b[39;49m\u001b[38;5;241;43m*\u001b[39;49m\u001b[43mkwargs\u001b[49m\u001b[43m)\u001b[49m\n\u001b[1;32m     45\u001b[0m \u001b[38;5;66;03m# extra_args > 0\u001b[39;00m\n\u001b[1;32m     46\u001b[0m args_msg \u001b[38;5;241m=\u001b[39m [\n\u001b[1;32m     47\u001b[0m     \u001b[38;5;124mf\u001b[39m\u001b[38;5;124m\"\u001b[39m\u001b[38;5;132;01m{\u001b[39;00mname\u001b[38;5;132;01m}\u001b[39;00m\u001b[38;5;124m=\u001b[39m\u001b[38;5;132;01m{\u001b[39;00marg\u001b[38;5;132;01m}\u001b[39;00m\u001b[38;5;124m\"\u001b[39m\n\u001b[1;32m     48\u001b[0m     \u001b[38;5;28;01mfor\u001b[39;00m name, arg \u001b[38;5;129;01min\u001b[39;00m \u001b[38;5;28mzip\u001b[39m(kwonly_args[:extra_args], args[\u001b[38;5;241m-\u001b[39mextra_args:], strict\u001b[38;5;241m=\u001b[39m\u001b[38;5;28;01mFalse\u001b[39;00m)\n\u001b[1;32m     49\u001b[0m ]\n",
      "File \u001b[0;32m/opt/conda/lib/python3.11/site-packages/zarr/core/array.py:2883\u001b[0m, in \u001b[0;36mArray.get_orthogonal_selection\u001b[0;34m(self, selection, out, fields, prototype)\u001b[0m\n\u001b[1;32m   2881\u001b[0m     prototype \u001b[38;5;241m=\u001b[39m default_buffer_prototype()\n\u001b[1;32m   2882\u001b[0m indexer \u001b[38;5;241m=\u001b[39m OrthogonalIndexer(selection, \u001b[38;5;28mself\u001b[39m\u001b[38;5;241m.\u001b[39mshape, \u001b[38;5;28mself\u001b[39m\u001b[38;5;241m.\u001b[39mmetadata\u001b[38;5;241m.\u001b[39mchunk_grid)\n\u001b[0;32m-> 2883\u001b[0m \u001b[38;5;28;01mreturn\u001b[39;00m \u001b[43msync\u001b[49m\u001b[43m(\u001b[49m\n\u001b[1;32m   2884\u001b[0m \u001b[43m    \u001b[49m\u001b[38;5;28;43mself\u001b[39;49m\u001b[38;5;241;43m.\u001b[39;49m\u001b[43m_async_array\u001b[49m\u001b[38;5;241;43m.\u001b[39;49m\u001b[43m_get_selection\u001b[49m\u001b[43m(\u001b[49m\n\u001b[1;32m   2885\u001b[0m \u001b[43m        \u001b[49m\u001b[43mindexer\u001b[49m\u001b[38;5;241;43m=\u001b[39;49m\u001b[43mindexer\u001b[49m\u001b[43m,\u001b[49m\u001b[43m \u001b[49m\u001b[43mout\u001b[49m\u001b[38;5;241;43m=\u001b[39;49m\u001b[43mout\u001b[49m\u001b[43m,\u001b[49m\u001b[43m \u001b[49m\u001b[43mfields\u001b[49m\u001b[38;5;241;43m=\u001b[39;49m\u001b[43mfields\u001b[49m\u001b[43m,\u001b[49m\u001b[43m \u001b[49m\u001b[43mprototype\u001b[49m\u001b[38;5;241;43m=\u001b[39;49m\u001b[43mprototype\u001b[49m\n\u001b[1;32m   2886\u001b[0m \u001b[43m    \u001b[49m\u001b[43m)\u001b[49m\n\u001b[1;32m   2887\u001b[0m \u001b[43m\u001b[49m\u001b[43m)\u001b[49m\n",
      "File \u001b[0;32m/opt/conda/lib/python3.11/site-packages/zarr/core/sync.py:163\u001b[0m, in \u001b[0;36msync\u001b[0;34m(coro, loop, timeout)\u001b[0m\n\u001b[1;32m    160\u001b[0m return_result \u001b[38;5;241m=\u001b[39m \u001b[38;5;28mnext\u001b[39m(\u001b[38;5;28miter\u001b[39m(finished))\u001b[38;5;241m.\u001b[39mresult()\n\u001b[1;32m    162\u001b[0m \u001b[38;5;28;01mif\u001b[39;00m \u001b[38;5;28misinstance\u001b[39m(return_result, \u001b[38;5;167;01mBaseException\u001b[39;00m):\n\u001b[0;32m--> 163\u001b[0m     \u001b[38;5;28;01mraise\u001b[39;00m return_result\n\u001b[1;32m    164\u001b[0m \u001b[38;5;28;01melse\u001b[39;00m:\n\u001b[1;32m    165\u001b[0m     \u001b[38;5;28;01mreturn\u001b[39;00m return_result\n",
      "File \u001b[0;32m/opt/conda/lib/python3.11/site-packages/zarr/core/sync.py:119\u001b[0m, in \u001b[0;36m_runner\u001b[0;34m(coro)\u001b[0m\n\u001b[1;32m    114\u001b[0m \u001b[38;5;250m\u001b[39m\u001b[38;5;124;03m\"\"\"\u001b[39;00m\n\u001b[1;32m    115\u001b[0m \u001b[38;5;124;03mAwait a coroutine and return the result of running it. If awaiting the coroutine raises an\u001b[39;00m\n\u001b[1;32m    116\u001b[0m \u001b[38;5;124;03mexception, the exception will be returned.\u001b[39;00m\n\u001b[1;32m    117\u001b[0m \u001b[38;5;124;03m\"\"\"\u001b[39;00m\n\u001b[1;32m    118\u001b[0m \u001b[38;5;28;01mtry\u001b[39;00m:\n\u001b[0;32m--> 119\u001b[0m     \u001b[38;5;28;01mreturn\u001b[39;00m \u001b[38;5;28;01mawait\u001b[39;00m coro\n\u001b[1;32m    120\u001b[0m \u001b[38;5;28;01mexcept\u001b[39;00m \u001b[38;5;167;01mException\u001b[39;00m \u001b[38;5;28;01mas\u001b[39;00m ex:\n\u001b[1;32m    121\u001b[0m     \u001b[38;5;28;01mreturn\u001b[39;00m ex\n",
      "File \u001b[0;32m/opt/conda/lib/python3.11/site-packages/zarr/core/array.py:1298\u001b[0m, in \u001b[0;36mAsyncArray._get_selection\u001b[0;34m(self, indexer, prototype, out, fields)\u001b[0m\n\u001b[1;32m   1295\u001b[0m         _config \u001b[38;5;241m=\u001b[39m replace(_config, order\u001b[38;5;241m=\u001b[39m\u001b[38;5;28mself\u001b[39m\u001b[38;5;241m.\u001b[39morder)\n\u001b[1;32m   1297\u001b[0m     \u001b[38;5;66;03m# reading chunks and decoding them\u001b[39;00m\n\u001b[0;32m-> 1298\u001b[0m     \u001b[38;5;28;01mawait\u001b[39;00m \u001b[38;5;28mself\u001b[39m\u001b[38;5;241m.\u001b[39mcodec_pipeline\u001b[38;5;241m.\u001b[39mread(\n\u001b[1;32m   1299\u001b[0m         [\n\u001b[1;32m   1300\u001b[0m             (\n\u001b[1;32m   1301\u001b[0m                 \u001b[38;5;28mself\u001b[39m\u001b[38;5;241m.\u001b[39mstore_path \u001b[38;5;241m/\u001b[39m \u001b[38;5;28mself\u001b[39m\u001b[38;5;241m.\u001b[39mmetadata\u001b[38;5;241m.\u001b[39mencode_chunk_key(chunk_coords),\n\u001b[1;32m   1302\u001b[0m                 \u001b[38;5;28mself\u001b[39m\u001b[38;5;241m.\u001b[39mmetadata\u001b[38;5;241m.\u001b[39mget_chunk_spec(chunk_coords, _config, prototype\u001b[38;5;241m=\u001b[39mprototype),\n\u001b[1;32m   1303\u001b[0m                 chunk_selection,\n\u001b[1;32m   1304\u001b[0m                 out_selection,\n\u001b[1;32m   1305\u001b[0m                 is_complete_chunk,\n\u001b[1;32m   1306\u001b[0m             )\n\u001b[1;32m   1307\u001b[0m             \u001b[38;5;28;01mfor\u001b[39;00m chunk_coords, chunk_selection, out_selection, is_complete_chunk \u001b[38;5;129;01min\u001b[39;00m indexer\n\u001b[1;32m   1308\u001b[0m         ],\n\u001b[1;32m   1309\u001b[0m         out_buffer,\n\u001b[1;32m   1310\u001b[0m         drop_axes\u001b[38;5;241m=\u001b[39mindexer\u001b[38;5;241m.\u001b[39mdrop_axes,\n\u001b[1;32m   1311\u001b[0m     )\n\u001b[1;32m   1312\u001b[0m \u001b[38;5;28;01mif\u001b[39;00m \u001b[38;5;28misinstance\u001b[39m(indexer, BasicIndexer) \u001b[38;5;129;01mand\u001b[39;00m indexer\u001b[38;5;241m.\u001b[39mshape \u001b[38;5;241m==\u001b[39m ():\n\u001b[1;32m   1313\u001b[0m     \u001b[38;5;28;01mreturn\u001b[39;00m out_buffer\u001b[38;5;241m.\u001b[39mas_scalar()\n",
      "File \u001b[0;32m/opt/conda/lib/python3.11/site-packages/zarr/core/codec_pipeline.py:464\u001b[0m, in \u001b[0;36mBatchedCodecPipeline.read\u001b[0;34m(self, batch_info, out, drop_axes)\u001b[0m\n\u001b[1;32m    458\u001b[0m \u001b[38;5;28;01masync\u001b[39;00m \u001b[38;5;28;01mdef\u001b[39;00m \u001b[38;5;21mread\u001b[39m(\n\u001b[1;32m    459\u001b[0m     \u001b[38;5;28mself\u001b[39m,\n\u001b[1;32m    460\u001b[0m     batch_info: Iterable[\u001b[38;5;28mtuple\u001b[39m[ByteGetter, ArraySpec, SelectorTuple, SelectorTuple, \u001b[38;5;28mbool\u001b[39m]],\n\u001b[1;32m    461\u001b[0m     out: NDBuffer,\n\u001b[1;32m    462\u001b[0m     drop_axes: \u001b[38;5;28mtuple\u001b[39m[\u001b[38;5;28mint\u001b[39m, \u001b[38;5;241m.\u001b[39m\u001b[38;5;241m.\u001b[39m\u001b[38;5;241m.\u001b[39m] \u001b[38;5;241m=\u001b[39m (),\n\u001b[1;32m    463\u001b[0m ) \u001b[38;5;241m-\u001b[39m\u001b[38;5;241m>\u001b[39m \u001b[38;5;28;01mNone\u001b[39;00m:\n\u001b[0;32m--> 464\u001b[0m     \u001b[38;5;28;01mawait\u001b[39;00m concurrent_map(\n\u001b[1;32m    465\u001b[0m         [\n\u001b[1;32m    466\u001b[0m             (single_batch_info, out, drop_axes)\n\u001b[1;32m    467\u001b[0m             \u001b[38;5;28;01mfor\u001b[39;00m single_batch_info \u001b[38;5;129;01min\u001b[39;00m batched(batch_info, \u001b[38;5;28mself\u001b[39m\u001b[38;5;241m.\u001b[39mbatch_size)\n\u001b[1;32m    468\u001b[0m         ],\n\u001b[1;32m    469\u001b[0m         \u001b[38;5;28mself\u001b[39m\u001b[38;5;241m.\u001b[39mread_batch,\n\u001b[1;32m    470\u001b[0m         config\u001b[38;5;241m.\u001b[39mget(\u001b[38;5;124m\"\u001b[39m\u001b[38;5;124masync.concurrency\u001b[39m\u001b[38;5;124m\"\u001b[39m),\n\u001b[1;32m    471\u001b[0m     )\n",
      "File \u001b[0;32m/opt/conda/lib/python3.11/site-packages/zarr/core/common.py:69\u001b[0m, in \u001b[0;36mconcurrent_map\u001b[0;34m(items, func, limit)\u001b[0m\n\u001b[1;32m     66\u001b[0m     \u001b[38;5;28;01masync\u001b[39;00m \u001b[38;5;28;01mwith\u001b[39;00m sem:\n\u001b[1;32m     67\u001b[0m         \u001b[38;5;28;01mreturn\u001b[39;00m \u001b[38;5;28;01mawait\u001b[39;00m func(\u001b[38;5;241m*\u001b[39mitem)\n\u001b[0;32m---> 69\u001b[0m \u001b[38;5;28;01mreturn\u001b[39;00m \u001b[38;5;28;01mawait\u001b[39;00m asyncio\u001b[38;5;241m.\u001b[39mgather(\u001b[38;5;241m*\u001b[39m[asyncio\u001b[38;5;241m.\u001b[39mensure_future(run(item)) \u001b[38;5;28;01mfor\u001b[39;00m item \u001b[38;5;129;01min\u001b[39;00m items])\n",
      "File \u001b[0;32m/opt/conda/lib/python3.11/site-packages/zarr/core/common.py:67\u001b[0m, in \u001b[0;36mconcurrent_map.<locals>.run\u001b[0;34m(item)\u001b[0m\n\u001b[1;32m     65\u001b[0m \u001b[38;5;28;01masync\u001b[39;00m \u001b[38;5;28;01mdef\u001b[39;00m \u001b[38;5;21mrun\u001b[39m(item: \u001b[38;5;28mtuple\u001b[39m[Any]) \u001b[38;5;241m-\u001b[39m\u001b[38;5;241m>\u001b[39m V:\n\u001b[1;32m     66\u001b[0m     \u001b[38;5;28;01masync\u001b[39;00m \u001b[38;5;28;01mwith\u001b[39;00m sem:\n\u001b[0;32m---> 67\u001b[0m         \u001b[38;5;28;01mreturn\u001b[39;00m \u001b[38;5;28;01mawait\u001b[39;00m func(\u001b[38;5;241m*\u001b[39mitem)\n",
      "File \u001b[0;32m/opt/conda/lib/python3.11/site-packages/zarr/core/codec_pipeline.py:270\u001b[0m, in \u001b[0;36mBatchedCodecPipeline.read_batch\u001b[0;34m(self, batch_info, out, drop_axes)\u001b[0m\n\u001b[1;32m    264\u001b[0m \u001b[38;5;28;01melse\u001b[39;00m:\n\u001b[1;32m    265\u001b[0m     chunk_bytes_batch \u001b[38;5;241m=\u001b[39m \u001b[38;5;28;01mawait\u001b[39;00m concurrent_map(\n\u001b[1;32m    266\u001b[0m         [(byte_getter, array_spec\u001b[38;5;241m.\u001b[39mprototype) \u001b[38;5;28;01mfor\u001b[39;00m byte_getter, array_spec, \u001b[38;5;241m*\u001b[39m_ \u001b[38;5;129;01min\u001b[39;00m batch_info],\n\u001b[1;32m    267\u001b[0m         \u001b[38;5;28;01mlambda\u001b[39;00m byte_getter, prototype: byte_getter\u001b[38;5;241m.\u001b[39mget(prototype),\n\u001b[1;32m    268\u001b[0m         config\u001b[38;5;241m.\u001b[39mget(\u001b[38;5;124m\"\u001b[39m\u001b[38;5;124masync.concurrency\u001b[39m\u001b[38;5;124m\"\u001b[39m),\n\u001b[1;32m    269\u001b[0m     )\n\u001b[0;32m--> 270\u001b[0m     chunk_array_batch \u001b[38;5;241m=\u001b[39m \u001b[38;5;28;01mawait\u001b[39;00m \u001b[38;5;28mself\u001b[39m\u001b[38;5;241m.\u001b[39mdecode_batch(\n\u001b[1;32m    271\u001b[0m         [\n\u001b[1;32m    272\u001b[0m             (chunk_bytes, chunk_spec)\n\u001b[1;32m    273\u001b[0m             \u001b[38;5;28;01mfor\u001b[39;00m chunk_bytes, (_, chunk_spec, \u001b[38;5;241m*\u001b[39m_) \u001b[38;5;129;01min\u001b[39;00m \u001b[38;5;28mzip\u001b[39m(\n\u001b[1;32m    274\u001b[0m                 chunk_bytes_batch, batch_info, strict\u001b[38;5;241m=\u001b[39m\u001b[38;5;28;01mFalse\u001b[39;00m\n\u001b[1;32m    275\u001b[0m             )\n\u001b[1;32m    276\u001b[0m         ],\n\u001b[1;32m    277\u001b[0m     )\n\u001b[1;32m    278\u001b[0m     \u001b[38;5;28;01mfor\u001b[39;00m chunk_array, (_, chunk_spec, chunk_selection, out_selection, _) \u001b[38;5;129;01min\u001b[39;00m \u001b[38;5;28mzip\u001b[39m(\n\u001b[1;32m    279\u001b[0m         chunk_array_batch, batch_info, strict\u001b[38;5;241m=\u001b[39m\u001b[38;5;28;01mFalse\u001b[39;00m\n\u001b[1;32m    280\u001b[0m     ):\n\u001b[1;32m    281\u001b[0m         \u001b[38;5;28;01mif\u001b[39;00m chunk_array \u001b[38;5;129;01mis\u001b[39;00m \u001b[38;5;129;01mnot\u001b[39;00m \u001b[38;5;28;01mNone\u001b[39;00m:\n",
      "File \u001b[0;32m/opt/conda/lib/python3.11/site-packages/zarr/core/codec_pipeline.py:185\u001b[0m, in \u001b[0;36mBatchedCodecPipeline.decode_batch\u001b[0;34m(self, chunk_bytes_and_specs)\u001b[0m\n\u001b[1;32m    178\u001b[0m (\n\u001b[1;32m    179\u001b[0m     aa_codecs_with_spec,\n\u001b[1;32m    180\u001b[0m     ab_codec_with_spec,\n\u001b[1;32m    181\u001b[0m     bb_codecs_with_spec,\n\u001b[1;32m    182\u001b[0m ) \u001b[38;5;241m=\u001b[39m \u001b[38;5;28mself\u001b[39m\u001b[38;5;241m.\u001b[39m_codecs_with_resolved_metadata_batched(chunk_specs)\n\u001b[1;32m    184\u001b[0m \u001b[38;5;28;01mfor\u001b[39;00m bb_codec, chunk_spec_batch \u001b[38;5;129;01min\u001b[39;00m bb_codecs_with_spec[::\u001b[38;5;241m-\u001b[39m\u001b[38;5;241m1\u001b[39m]:\n\u001b[0;32m--> 185\u001b[0m     chunk_bytes_batch \u001b[38;5;241m=\u001b[39m \u001b[38;5;28;01mawait\u001b[39;00m bb_codec\u001b[38;5;241m.\u001b[39mdecode(\n\u001b[1;32m    186\u001b[0m         \u001b[38;5;28mzip\u001b[39m(chunk_bytes_batch, chunk_spec_batch, strict\u001b[38;5;241m=\u001b[39m\u001b[38;5;28;01mFalse\u001b[39;00m)\n\u001b[1;32m    187\u001b[0m     )\n\u001b[1;32m    189\u001b[0m ab_codec, chunk_spec_batch \u001b[38;5;241m=\u001b[39m ab_codec_with_spec\n\u001b[1;32m    190\u001b[0m chunk_array_batch \u001b[38;5;241m=\u001b[39m \u001b[38;5;28;01mawait\u001b[39;00m ab_codec\u001b[38;5;241m.\u001b[39mdecode(\n\u001b[1;32m    191\u001b[0m     \u001b[38;5;28mzip\u001b[39m(chunk_bytes_batch, chunk_spec_batch, strict\u001b[38;5;241m=\u001b[39m\u001b[38;5;28;01mFalse\u001b[39;00m)\n\u001b[1;32m    192\u001b[0m )\n",
      "File \u001b[0;32m/opt/conda/lib/python3.11/site-packages/zarr/abc/codec.py:129\u001b[0m, in \u001b[0;36mBaseCodec.decode\u001b[0;34m(self, chunks_and_specs)\u001b[0m\n\u001b[1;32m    113\u001b[0m \u001b[38;5;28;01masync\u001b[39;00m \u001b[38;5;28;01mdef\u001b[39;00m \u001b[38;5;21mdecode\u001b[39m(\n\u001b[1;32m    114\u001b[0m     \u001b[38;5;28mself\u001b[39m,\n\u001b[1;32m    115\u001b[0m     chunks_and_specs: Iterable[\u001b[38;5;28mtuple\u001b[39m[CodecOutput \u001b[38;5;241m|\u001b[39m \u001b[38;5;28;01mNone\u001b[39;00m, ArraySpec]],\n\u001b[1;32m    116\u001b[0m ) \u001b[38;5;241m-\u001b[39m\u001b[38;5;241m>\u001b[39m Iterable[CodecInput \u001b[38;5;241m|\u001b[39m \u001b[38;5;28;01mNone\u001b[39;00m]:\n\u001b[1;32m    117\u001b[0m \u001b[38;5;250m    \u001b[39m\u001b[38;5;124;03m\"\"\"Decodes a batch of chunks.\u001b[39;00m\n\u001b[1;32m    118\u001b[0m \u001b[38;5;124;03m    Chunks can be None in which case they are ignored by the codec.\u001b[39;00m\n\u001b[1;32m    119\u001b[0m \n\u001b[0;32m   (...)\u001b[0m\n\u001b[1;32m    127\u001b[0m \u001b[38;5;124;03m    Iterable[CodecInput | None]\u001b[39;00m\n\u001b[1;32m    128\u001b[0m \u001b[38;5;124;03m    \"\"\"\u001b[39;00m\n\u001b[0;32m--> 129\u001b[0m     \u001b[38;5;28;01mreturn\u001b[39;00m \u001b[38;5;28;01mawait\u001b[39;00m _batching_helper(\u001b[38;5;28mself\u001b[39m\u001b[38;5;241m.\u001b[39m_decode_single, chunks_and_specs)\n",
      "File \u001b[0;32m/opt/conda/lib/python3.11/site-packages/zarr/abc/codec.py:407\u001b[0m, in \u001b[0;36m_batching_helper\u001b[0;34m(func, batch_info)\u001b[0m\n\u001b[1;32m    403\u001b[0m \u001b[38;5;28;01masync\u001b[39;00m \u001b[38;5;28;01mdef\u001b[39;00m \u001b[38;5;21m_batching_helper\u001b[39m(\n\u001b[1;32m    404\u001b[0m     func: Callable[[CodecInput, ArraySpec], Awaitable[CodecOutput \u001b[38;5;241m|\u001b[39m \u001b[38;5;28;01mNone\u001b[39;00m]],\n\u001b[1;32m    405\u001b[0m     batch_info: Iterable[\u001b[38;5;28mtuple\u001b[39m[CodecInput \u001b[38;5;241m|\u001b[39m \u001b[38;5;28;01mNone\u001b[39;00m, ArraySpec]],\n\u001b[1;32m    406\u001b[0m ) \u001b[38;5;241m-\u001b[39m\u001b[38;5;241m>\u001b[39m \u001b[38;5;28mlist\u001b[39m[CodecOutput \u001b[38;5;241m|\u001b[39m \u001b[38;5;28;01mNone\u001b[39;00m]:\n\u001b[0;32m--> 407\u001b[0m     \u001b[38;5;28;01mreturn\u001b[39;00m \u001b[38;5;28;01mawait\u001b[39;00m concurrent_map(\n\u001b[1;32m    408\u001b[0m         \u001b[38;5;28mlist\u001b[39m(batch_info),\n\u001b[1;32m    409\u001b[0m         _noop_for_none(func),\n\u001b[1;32m    410\u001b[0m         config\u001b[38;5;241m.\u001b[39mget(\u001b[38;5;124m\"\u001b[39m\u001b[38;5;124masync.concurrency\u001b[39m\u001b[38;5;124m\"\u001b[39m),\n\u001b[1;32m    411\u001b[0m     )\n",
      "File \u001b[0;32m/opt/conda/lib/python3.11/site-packages/zarr/core/common.py:69\u001b[0m, in \u001b[0;36mconcurrent_map\u001b[0;34m(items, func, limit)\u001b[0m\n\u001b[1;32m     66\u001b[0m     \u001b[38;5;28;01masync\u001b[39;00m \u001b[38;5;28;01mwith\u001b[39;00m sem:\n\u001b[1;32m     67\u001b[0m         \u001b[38;5;28;01mreturn\u001b[39;00m \u001b[38;5;28;01mawait\u001b[39;00m func(\u001b[38;5;241m*\u001b[39mitem)\n\u001b[0;32m---> 69\u001b[0m \u001b[38;5;28;01mreturn\u001b[39;00m \u001b[38;5;28;01mawait\u001b[39;00m asyncio\u001b[38;5;241m.\u001b[39mgather(\u001b[38;5;241m*\u001b[39m[asyncio\u001b[38;5;241m.\u001b[39mensure_future(run(item)) \u001b[38;5;28;01mfor\u001b[39;00m item \u001b[38;5;129;01min\u001b[39;00m items])\n",
      "File \u001b[0;32m/opt/conda/lib/python3.11/site-packages/zarr/core/common.py:67\u001b[0m, in \u001b[0;36mconcurrent_map.<locals>.run\u001b[0;34m(item)\u001b[0m\n\u001b[1;32m     65\u001b[0m \u001b[38;5;28;01masync\u001b[39;00m \u001b[38;5;28;01mdef\u001b[39;00m \u001b[38;5;21mrun\u001b[39m(item: \u001b[38;5;28mtuple\u001b[39m[Any]) \u001b[38;5;241m-\u001b[39m\u001b[38;5;241m>\u001b[39m V:\n\u001b[1;32m     66\u001b[0m     \u001b[38;5;28;01masync\u001b[39;00m \u001b[38;5;28;01mwith\u001b[39;00m sem:\n\u001b[0;32m---> 67\u001b[0m         \u001b[38;5;28;01mreturn\u001b[39;00m \u001b[38;5;28;01mawait\u001b[39;00m func(\u001b[38;5;241m*\u001b[39mitem)\n",
      "File \u001b[0;32m/opt/conda/lib/python3.11/site-packages/zarr/abc/codec.py:420\u001b[0m, in \u001b[0;36m_noop_for_none.<locals>.wrap\u001b[0;34m(chunk, chunk_spec)\u001b[0m\n\u001b[1;32m    418\u001b[0m \u001b[38;5;28;01mif\u001b[39;00m chunk \u001b[38;5;129;01mis\u001b[39;00m \u001b[38;5;28;01mNone\u001b[39;00m:\n\u001b[1;32m    419\u001b[0m     \u001b[38;5;28;01mreturn\u001b[39;00m \u001b[38;5;28;01mNone\u001b[39;00m\n\u001b[0;32m--> 420\u001b[0m \u001b[38;5;28;01mreturn\u001b[39;00m \u001b[38;5;28;01mawait\u001b[39;00m func(chunk, chunk_spec)\n",
      "File \u001b[0;32m/opt/conda/lib/python3.11/site-packages/numcodecs/zarr3.py:148\u001b[0m, in \u001b[0;36m_NumcodecsBytesBytesCodec._decode_single\u001b[0;34m(self, chunk_bytes, chunk_spec)\u001b[0m\n\u001b[1;32m    147\u001b[0m \u001b[38;5;28;01masync\u001b[39;00m \u001b[38;5;28;01mdef\u001b[39;00m \u001b[38;5;21m_decode_single\u001b[39m(\u001b[38;5;28mself\u001b[39m, chunk_bytes: Buffer, chunk_spec: ArraySpec) \u001b[38;5;241m-\u001b[39m\u001b[38;5;241m>\u001b[39m Buffer:\n\u001b[0;32m--> 148\u001b[0m     \u001b[38;5;28;01mreturn\u001b[39;00m \u001b[38;5;28;01mawait\u001b[39;00m asyncio\u001b[38;5;241m.\u001b[39mto_thread(\n\u001b[1;32m    149\u001b[0m         as_numpy_array_wrapper,\n\u001b[1;32m    150\u001b[0m         \u001b[38;5;28mself\u001b[39m\u001b[38;5;241m.\u001b[39m_codec\u001b[38;5;241m.\u001b[39mdecode,\n\u001b[1;32m    151\u001b[0m         chunk_bytes,\n\u001b[1;32m    152\u001b[0m         chunk_spec\u001b[38;5;241m.\u001b[39mprototype,\n\u001b[1;32m    153\u001b[0m     )\n",
      "File \u001b[0;32m/opt/conda/lib/python3.11/asyncio/threads.py:25\u001b[0m, in \u001b[0;36mto_thread\u001b[0;34m(func, *args, **kwargs)\u001b[0m\n\u001b[1;32m     23\u001b[0m ctx \u001b[38;5;241m=\u001b[39m contextvars\u001b[38;5;241m.\u001b[39mcopy_context()\n\u001b[1;32m     24\u001b[0m func_call \u001b[38;5;241m=\u001b[39m functools\u001b[38;5;241m.\u001b[39mpartial(ctx\u001b[38;5;241m.\u001b[39mrun, func, \u001b[38;5;241m*\u001b[39margs, \u001b[38;5;241m*\u001b[39m\u001b[38;5;241m*\u001b[39mkwargs)\n\u001b[0;32m---> 25\u001b[0m \u001b[38;5;28;01mreturn\u001b[39;00m \u001b[38;5;28;01mawait\u001b[39;00m loop\u001b[38;5;241m.\u001b[39mrun_in_executor(\u001b[38;5;28;01mNone\u001b[39;00m, func_call)\n",
      "File \u001b[0;32m/opt/conda/lib/python3.11/site-packages/zarr/core/buffer/cpu.py:213\u001b[0m, in \u001b[0;36mas_numpy_array_wrapper\u001b[0;34m(func, buf, prototype)\u001b[0m\n\u001b[1;32m    188\u001b[0m \u001b[38;5;28;01mdef\u001b[39;00m \u001b[38;5;21mas_numpy_array_wrapper\u001b[39m(\n\u001b[1;32m    189\u001b[0m     func: Callable[[npt\u001b[38;5;241m.\u001b[39mNDArray[Any]], \u001b[38;5;28mbytes\u001b[39m], buf: core\u001b[38;5;241m.\u001b[39mBuffer, prototype: core\u001b[38;5;241m.\u001b[39mBufferPrototype\n\u001b[1;32m    190\u001b[0m ) \u001b[38;5;241m-\u001b[39m\u001b[38;5;241m>\u001b[39m core\u001b[38;5;241m.\u001b[39mBuffer:\n\u001b[1;32m    191\u001b[0m \u001b[38;5;250m    \u001b[39m\u001b[38;5;124;03m\"\"\"Converts the input of `func` to a numpy array and the output back to `Buffer`.\u001b[39;00m\n\u001b[1;32m    192\u001b[0m \n\u001b[1;32m    193\u001b[0m \u001b[38;5;124;03m    This function is useful when calling a `func` that only support host memory such\u001b[39;00m\n\u001b[0;32m   (...)\u001b[0m\n\u001b[1;32m    211\u001b[0m \u001b[38;5;124;03m        The result of `func` converted to a `Buffer`\u001b[39;00m\n\u001b[1;32m    212\u001b[0m \u001b[38;5;124;03m    \"\"\"\u001b[39;00m\n\u001b[0;32m--> 213\u001b[0m     \u001b[38;5;28;01mreturn\u001b[39;00m prototype\u001b[38;5;241m.\u001b[39mbuffer\u001b[38;5;241m.\u001b[39mfrom_bytes(\u001b[43mfunc\u001b[49m\u001b[43m(\u001b[49m\u001b[43mbuf\u001b[49m\u001b[38;5;241;43m.\u001b[39;49m\u001b[43mas_numpy_array\u001b[49m\u001b[43m(\u001b[49m\u001b[43m)\u001b[49m\u001b[43m)\u001b[49m)\n",
      "File \u001b[0;32m/opt/conda/lib/python3.11/site-packages/numcodecs/zlib.py:37\u001b[0m, in \u001b[0;36mZlib.decode\u001b[0;34m(self, buf, out)\u001b[0m\n\u001b[1;32m     34\u001b[0m     out \u001b[38;5;241m=\u001b[39m ensure_contiguous_ndarray(out)\n\u001b[1;32m     36\u001b[0m \u001b[38;5;66;03m# do decompression\u001b[39;00m\n\u001b[0;32m---> 37\u001b[0m dec \u001b[38;5;241m=\u001b[39m \u001b[43m_zlib\u001b[49m\u001b[38;5;241;43m.\u001b[39;49m\u001b[43mdecompress\u001b[49m\u001b[43m(\u001b[49m\u001b[43mbuf\u001b[49m\u001b[43m)\u001b[49m\n\u001b[1;32m     39\u001b[0m \u001b[38;5;66;03m# handle destination - Python standard library zlib module does not\u001b[39;00m\n\u001b[1;32m     40\u001b[0m \u001b[38;5;66;03m# support direct decompression into buffer, so we have to copy into\u001b[39;00m\n\u001b[1;32m     41\u001b[0m \u001b[38;5;66;03m# out if given\u001b[39;00m\n\u001b[1;32m     42\u001b[0m \u001b[38;5;28;01mreturn\u001b[39;00m ndarray_copy(dec, out)\n",
      "\u001b[0;31merror\u001b[0m: Error -3 while decompressing data: incorrect header check"
     ]
    }
   ],
   "source": [
    "subset = xds.sel(lat=lat_slice, lon=lon_slice, time='2025-07-01')\n",
    "print(subset.analysed_sst.shape)\n",
    "subset.analysed_sst.mean().values"
   ]
  },
  {
   "cell_type": "markdown",
   "id": "4a3e767e-9f0e-4e47-ab68-7389e384e0ee",
   "metadata": {},
   "source": [
    "### Get same value from original data"
   ]
  },
  {
   "cell_type": "code",
   "execution_count": null,
   "id": "1b6df651-9d2f-4987-bbce-eb9141974100",
   "metadata": {},
   "outputs": [],
   "source": [
    "results = earthaccess.search_data(\n",
    "    short_name='MUR-JPL-L4-GLOB-v4.1',\n",
    "    temporal=(time_range[0] + \" 09:00:00\", time_range[1] + \" 09:00:00\"),\n",
    ")\n",
    "\n",
    "direct_access_links = [granule.data_links(access=\"direct\")[0] for granule in results]\n",
    "\n",
    "fileset = earthaccess.open(direct_access_links, provider='POCLOUD')\n",
    "\n",
    "og_ds = xr.open_mfdataset(fileset)"
   ]
  },
  {
   "cell_type": "code",
   "execution_count": 49,
   "id": "4030a24b-e2b1-432b-b32f-ea29b59dd0bf",
   "metadata": {},
   "outputs": [
    {
     "name": "stdout",
     "output_type": "stream",
     "text": [
      "(29, 11, 11)\n"
     ]
    },
    {
     "data": {
      "text/plain": [
       "array(285.61836207)"
      ]
     },
     "execution_count": 49,
     "metadata": {},
     "output_type": "execute_result"
    }
   ],
   "source": [
    "og_subset = og_ds.sel(lat=lat_slice, lon=lon_slice, time=slice(*time_range))\n",
    "print(og_subset.analysed_sst.shape)\n",
    "og_subset.analysed_sst.mean().values"
   ]
  },
  {
   "cell_type": "markdown",
   "id": "0cb434fa-f083-4b8f-8604-08bd2f0a66de",
   "metadata": {},
   "source": [
    "# Deleting data\n",
    "\n",
    "You can delete data directly if necessary or remove previous commits.\n",
    "\n",
    "### Option 1: first option resizes the arrays."
   ]
  },
  {
   "cell_type": "code",
   "execution_count": 31,
   "id": "69543cdd-a254-45dd-bbb5-1a5c090c5cd8",
   "metadata": {},
   "outputs": [
    {
     "name": "stderr",
     "output_type": "stream",
     "text": [
      "/opt/conda/lib/python3.11/site-packages/numcodecs/zarr3.py:145: UserWarning: Numcodecs codecs are not in the Zarr version 3 specification and may not be supported by other zarr implementations.\n",
      "  super().__init__(**codec_config)\n"
     ]
    }
   ],
   "source": [
    "session = repo.writable_session(branch=\"main\")\n",
    "store = session.store\n",
    "variables = [\"analysed_sst\", \"analysis_error\", \"sea_ice_fraction\", \"mask\", \"time\"]\n",
    "resize = 364\n",
    "for var in variables:\n",
    "    # Open your array\n",
    "    group = zarr.open_group(store)\n",
    "    array = group[var]\n",
    "    \n",
    "    # Truncate the array to remove time indices > 364\n",
    "    # This effectively removes chunks for indices 365, 366, etc.\n",
    "    new_shape = list(array.shape)\n",
    "    new_shape[0] = 364  # Assuming time is the first dimension\n",
    "    array.resize(new_shape)"
   ]
  },
  {
   "cell_type": "code",
   "execution_count": 38,
   "id": "38b1b1b9-55f7-4ba8-80f8-ca750fac4631",
   "metadata": {},
   "outputs": [
    {
     "data": {
      "text/plain": [
       "'44B9XPA2C0QH6FVT5AF0'"
      ]
     },
     "execution_count": 38,
     "metadata": {},
     "output_type": "execute_result"
    }
   ],
   "source": [
    "# DANGER!\n",
    "# session.commit(\"Removed data for time > 2025-05-31\")"
   ]
  },
  {
   "cell_type": "markdown",
   "id": "72ccfdcf-7a6b-4b97-aba8-02ade6f48847",
   "metadata": {},
   "source": [
    "### Option 2: Reset to a previous commit.\n",
    "\n",
    "First list commits:"
   ]
  },
  {
   "cell_type": "code",
   "execution_count": 22,
   "id": "7ae9a196-49b5-4f83-9730-19612c3c7124",
   "metadata": {},
   "outputs": [
    {
     "data": {
      "text/plain": [
       "[('Committed data for 2025-07-01 09:00:00 21:00:01 to 2025-07-03 21:00:00.',\n",
       "  'TSWFKSA0JB7WJK52APSG'),\n",
       " ('Committed data for 2025-06-30 09:00:00 21:00:01 to 2025-07-02 21:00:00.',\n",
       "  'W96ECCA8SNV111SB6KG0'),\n",
       " ('Committed data for 2025-06-29 09:00:00 21:00:01 to 2025-07-01 21:00:00.',\n",
       "  '7CPR33AM6TD4B9CNKBEG'),\n",
       " ('Committed data for 2025-06-28 09:00:00 21:00:01 to 2025-06-30 21:00:00.',\n",
       "  '3WQJD66XCMSAKBVZAMF0'),\n",
       " ('Committed data for 2025-06-27 09:00:00 21:00:01 to 2025-06-29 21:00:00.',\n",
       "  '8Y9Z9XA2B9VF3NVNJ1J0'),\n",
       " ('Committed data for 2025-05-31 09:00:00 09:00:00 to 2025-06-28 09:00:00.',\n",
       "  '7PZK6744FDHXHKPYVX8G'),\n",
       " ('Removed data for time > 2025-05-31', '44B9XPA2C0QH6FVT5AF0'),\n",
       " ('Commit data 2024-10-01 to 2025-06-04', 'GPRDBT2XK9ZERYSQ7EA0'),\n",
       " ('Commit data 2024-09-13 to 2024-09-30', 'CP5PHVT9V88VPZTZ0E00'),\n",
       " ('Committed data for 2024-09-12 09:00:00 to 2024-09-12 09:00:00 using 20240912090000-JPL-L4_GHRSST-SSTfnd-MUR-GLOB-v02.0-fv04.1',\n",
       "  'W7Z0Y2FAGZ8WFPMJYZTG'),\n",
       " ('Committed data for 2024-09-11 09:00:00 to 2024-09-11 09:00:00 using 20240911090000-JPL-L4_GHRSST-SSTfnd-MUR-GLOB-v02.0-fv04.1',\n",
       "  'QRB8HZE1WEK9AA1FWH00'),\n",
       " ('Commit data 2024-09-05 to 2024-09-10', '3R6SDVDMWP0SVB6KW0ZG'),\n",
       " ('Committed data for 2024-09-04 09:00:00 to 2024-09-04 09:00:00 using 20240904090000-JPL-L4_GHRSST-SSTfnd-MUR-GLOB-v02.0-fv04.1',\n",
       "  'MSX9YMGN8EPP3S2Z8K50'),\n",
       " ('Committed data for 2024-09-01 09:00:00 to 2024-09-03 09:00:00 using 20240903090000-JPL-L4_GHRSST-SSTfnd-MUR-GLOB-v02.0-fv04.1',\n",
       "  'SE5QYNGDA0KSQCKTHGQ0'),\n",
       " ('Commit data 2024-08-02 to 2024-08-30', 'K31CHGA0N2FXWCNSJVDG'),\n",
       " ('Commit data 2024-07-02 to 2024-07-31', 'Q37QBVDX4A58FPSY9190'),\n",
       " ('Commit data 2024-06-02 to 2024-06-30', 'DWCSFZX4TPNA4SEREME0'),\n",
       " ('Repository initialized', 'AYXEAVT6QYRBDXC1455G')]"
      ]
     },
     "execution_count": 22,
     "metadata": {},
     "output_type": "execute_result"
    }
   ],
   "source": [
    "[(ancestor.message, ancestor.id) for ancestor in repo.ancestry(branch=\"main\")]"
   ]
  },
  {
   "cell_type": "code",
   "execution_count": 24,
   "id": "a4214649-11b2-4a35-9e97-bed52a2e0dcd",
   "metadata": {},
   "outputs": [],
   "source": [
    "# repo.reset_branch(\"main\", \"8Y9Z9XA2B9VF3NVNJ1J0\")"
   ]
  }
 ],
 "metadata": {
  "kernelspec": {
   "display_name": "Python 3 (ipykernel)",
   "language": "python",
   "name": "python3"
  },
  "language_info": {
   "codemirror_mode": {
    "name": "ipython",
    "version": 3
   },
   "file_extension": ".py",
   "mimetype": "text/x-python",
   "name": "python",
   "nbconvert_exporter": "python",
   "pygments_lexer": "ipython3",
   "version": "3.11.10"
  }
 },
 "nbformat": 4,
 "nbformat_minor": 5
}
