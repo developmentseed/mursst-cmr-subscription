{
 "cells": [
  {
   "cell_type": "markdown",
   "id": "d6252a84-b3bd-4979-a173-cba91056f67e",
   "metadata": {},
   "source": [
    "# Testing the lambda handler"
   ]
  },
  {
   "cell_type": "code",
   "execution_count": 27,
   "id": "edcdd905-0700-4c3b-9da0-fa9e9e652b4e",
   "metadata": {},
   "outputs": [
    {
     "name": "stdout",
     "output_type": "stream",
     "text": [
      "The autoreload extension is already loaded. To reload it, use:\n",
      "  %reload_ext autoreload\n"
     ]
    }
   ],
   "source": [
    "%load_ext autoreload\n",
    "%autoreload 2\n",
    "from lambda_function import lambda_handler, open_icechunk_repo\n",
    "\n",
    "import earthaccess\n",
    "import os\n",
    "import xarray as xr\n",
    "import zarr\n",
    "\n",
    "import warnings\n",
    "warnings.filterwarnings(\"ignore\") "
   ]
  },
  {
   "cell_type": "code",
   "execution_count": 9,
   "id": "416d2208-52de-4e56-a515-b0ea165ce1d5",
   "metadata": {},
   "outputs": [],
   "source": [
    "os.environ['SECRET_ARN'] = 'arn:aws:secretsmanager:us-west-2:444055461661:secret:mursst_lambda_edl_credentials-9dKy1C'\n",
    "os.environ['DRY_RUN'] = \"true\""
   ]
  },
  {
   "cell_type": "code",
   "execution_count": 63,
   "id": "ff920b67-793e-4fe3-ae82-6ce038af0e87",
   "metadata": {},
   "outputs": [],
   "source": [
    "# lambda_handler({})"
   ]
  },
  {
   "cell_type": "markdown",
   "id": "7b0b213b-bfda-42e3-85ac-1b5250e89b6e",
   "metadata": {},
   "source": [
    "# Testing the store"
   ]
  },
  {
   "cell_type": "code",
   "execution_count": 37,
   "id": "fadb5413-8375-4a5c-9f8e-111dfd2b457f",
   "metadata": {},
   "outputs": [],
   "source": [
    "earthaccess.login()\n",
    "ea_creds = earthaccess.get_s3_credentials(daac='PODAAC')\n",
    "bucket = 'nasa-eodc-public'\n",
    "store_name = \"MUR-JPL-L4-GLOB-v4.1-virtual-v1-p2\"\n",
    "lat_slice = slice(47.6, 47.7)\n",
    "lon_slice = slice(-122.4, -122.3)\n",
    "time_range = [\"2024-06-02\", \"2024-06-30\"]"
   ]
  },
  {
   "cell_type": "markdown",
   "id": "311a5dee-3d74-49b2-89e7-a7462c3f534a",
   "metadata": {},
   "source": [
    "### Get a value from the icechunk store"
   ]
  },
  {
   "cell_type": "code",
   "execution_count": 58,
   "id": "605fc2c3-378c-4986-84b3-6fe2020c00dd",
   "metadata": {},
   "outputs": [],
   "source": [
    "repo = open_icechunk_repo(bucket, store_name, ea_creds)\n",
    "session = repo.readonly_session(branch=\"main\")\n",
    "xds = xr.open_zarr(session.store, zarr_version=3, chunks={}, consolidated=False)"
   ]
  },
  {
   "cell_type": "code",
   "execution_count": 39,
   "id": "c476af97-621c-4c52-a032-0a131573d1d4",
   "metadata": {},
   "outputs": [
    {
     "name": "stdout",
     "output_type": "stream",
     "text": [
      "(29, 11, 11)\n"
     ]
    },
    {
     "data": {
      "text/plain": [
       "array(285.61836207)"
      ]
     },
     "execution_count": 39,
     "metadata": {},
     "output_type": "execute_result"
    }
   ],
   "source": [
    "subset = xds.sel(lat=lat_slice, lon=lon_slice, time=slice(*time_range))\n",
    "print(subset.analysed_sst.shape)\n",
    "subset.analysed_sst.mean().values"
   ]
  },
  {
   "cell_type": "markdown",
   "id": "4a3e767e-9f0e-4e47-ab68-7389e384e0ee",
   "metadata": {},
   "source": [
    "### Get same value from original data"
   ]
  },
  {
   "cell_type": "code",
   "execution_count": null,
   "id": "1b6df651-9d2f-4987-bbce-eb9141974100",
   "metadata": {},
   "outputs": [],
   "source": [
    "results = earthaccess.search_data(\n",
    "    short_name='MUR-JPL-L4-GLOB-v4.1',\n",
    "    temporal=(time_range[0] + \" 09:00:00\", time_range[1] + \" 09:00:00\"),\n",
    ")\n",
    "\n",
    "direct_access_links = [granule.data_links(access=\"direct\")[0] for granule in results]\n",
    "\n",
    "fileset = earthaccess.open(direct_access_links, provider='POCLOUD')\n",
    "\n",
    "og_ds = xr.open_mfdataset(fileset)"
   ]
  },
  {
   "cell_type": "code",
   "execution_count": 49,
   "id": "4030a24b-e2b1-432b-b32f-ea29b59dd0bf",
   "metadata": {},
   "outputs": [
    {
     "name": "stdout",
     "output_type": "stream",
     "text": [
      "(29, 11, 11)\n"
     ]
    },
    {
     "data": {
      "text/plain": [
       "array(285.61836207)"
      ]
     },
     "execution_count": 49,
     "metadata": {},
     "output_type": "execute_result"
    }
   ],
   "source": [
    "og_subset = og_ds.sel(lat=lat_slice, lon=lon_slice, time=slice(*time_range))\n",
    "print(og_subset.analysed_sst.shape)\n",
    "og_subset.analysed_sst.mean().values"
   ]
  },
  {
   "cell_type": "markdown",
   "id": "0cb434fa-f083-4b8f-8604-08bd2f0a66de",
   "metadata": {},
   "source": [
    "# Deleting data\n",
    "\n",
    "You can delete data directly if necessary or remove previous commits.\n",
    "\n",
    "### Option 1: first option resizes the arrays."
   ]
  },
  {
   "cell_type": "code",
   "execution_count": 31,
   "id": "69543cdd-a254-45dd-bbb5-1a5c090c5cd8",
   "metadata": {},
   "outputs": [
    {
     "name": "stderr",
     "output_type": "stream",
     "text": [
      "/opt/conda/lib/python3.11/site-packages/numcodecs/zarr3.py:145: UserWarning: Numcodecs codecs are not in the Zarr version 3 specification and may not be supported by other zarr implementations.\n",
      "  super().__init__(**codec_config)\n"
     ]
    }
   ],
   "source": [
    "session = repo.writable_session(branch=\"main\")\n",
    "store = session.store\n",
    "variables = [\"analysed_sst\", \"analysis_error\", \"sea_ice_fraction\", \"mask\", \"time\"]\n",
    "resize = 364\n",
    "for var in variables:\n",
    "    # Open your array\n",
    "    group = zarr.open_group(store)\n",
    "    array = group[var]\n",
    "    \n",
    "    # Truncate the array to remove time indices > 364\n",
    "    # This effectively removes chunks for indices 365, 366, etc.\n",
    "    new_shape = list(array.shape)\n",
    "    new_shape[0] = 364  # Assuming time is the first dimension\n",
    "    array.resize(new_shape)"
   ]
  },
  {
   "cell_type": "code",
   "execution_count": 38,
   "id": "38b1b1b9-55f7-4ba8-80f8-ca750fac4631",
   "metadata": {},
   "outputs": [
    {
     "data": {
      "text/plain": [
       "'44B9XPA2C0QH6FVT5AF0'"
      ]
     },
     "execution_count": 38,
     "metadata": {},
     "output_type": "execute_result"
    }
   ],
   "source": [
    "# DANGER!\n",
    "# session.commit(\"Removed data for time > 2025-05-31\")"
   ]
  },
  {
   "cell_type": "markdown",
   "id": "72ccfdcf-7a6b-4b97-aba8-02ade6f48847",
   "metadata": {},
   "source": [
    "### Option 2: Reset to a previous commit.\n",
    "\n",
    "First list commits:"
   ]
  },
  {
   "cell_type": "code",
   "execution_count": 64,
   "id": "7ae9a196-49b5-4f83-9730-19612c3c7124",
   "metadata": {},
   "outputs": [
    {
     "data": {
      "text/plain": [
       "[('Committed data for 2025-05-31 09:00:00 09:00:00 to 2025-06-28 09:00:00.',\n",
       "  '7PZK6744FDHXHKPYVX8G'),\n",
       " ('Removed data for time > 2025-05-31', '44B9XPA2C0QH6FVT5AF0'),\n",
       " ('Commit data 2024-10-01 to 2025-06-04', 'GPRDBT2XK9ZERYSQ7EA0'),\n",
       " ('Commit data 2024-09-13 to 2024-09-30', 'CP5PHVT9V88VPZTZ0E00'),\n",
       " ('Committed data for 2024-09-12 09:00:00 to 2024-09-12 09:00:00 using 20240912090000-JPL-L4_GHRSST-SSTfnd-MUR-GLOB-v02.0-fv04.1',\n",
       "  'W7Z0Y2FAGZ8WFPMJYZTG'),\n",
       " ('Committed data for 2024-09-11 09:00:00 to 2024-09-11 09:00:00 using 20240911090000-JPL-L4_GHRSST-SSTfnd-MUR-GLOB-v02.0-fv04.1',\n",
       "  'QRB8HZE1WEK9AA1FWH00'),\n",
       " ('Commit data 2024-09-05 to 2024-09-10', '3R6SDVDMWP0SVB6KW0ZG'),\n",
       " ('Committed data for 2024-09-04 09:00:00 to 2024-09-04 09:00:00 using 20240904090000-JPL-L4_GHRSST-SSTfnd-MUR-GLOB-v02.0-fv04.1',\n",
       "  'MSX9YMGN8EPP3S2Z8K50'),\n",
       " ('Committed data for 2024-09-01 09:00:00 to 2024-09-03 09:00:00 using 20240903090000-JPL-L4_GHRSST-SSTfnd-MUR-GLOB-v02.0-fv04.1',\n",
       "  'SE5QYNGDA0KSQCKTHGQ0'),\n",
       " ('Commit data 2024-08-02 to 2024-08-30', 'K31CHGA0N2FXWCNSJVDG'),\n",
       " ('Commit data 2024-07-02 to 2024-07-31', 'Q37QBVDX4A58FPSY9190'),\n",
       " ('Commit data 2024-06-02 to 2024-06-30', 'DWCSFZX4TPNA4SEREME0'),\n",
       " ('Repository initialized', 'AYXEAVT6QYRBDXC1455G')]"
      ]
     },
     "execution_count": 64,
     "metadata": {},
     "output_type": "execute_result"
    }
   ],
   "source": [
    "[(ancestor.message, ancestor.id) for ancestor in repo.ancestry(branch=\"main\")]"
   ]
  },
  {
   "cell_type": "code",
   "execution_count": null,
   "id": "a4214649-11b2-4a35-9e97-bed52a2e0dcd",
   "metadata": {},
   "outputs": [],
   "source": [
    "# repo.reset_branch(\"main\", \"commit id\")"
   ]
  }
 ],
 "metadata": {
  "kernelspec": {
   "display_name": "Python 3 (ipykernel)",
   "language": "python",
   "name": "python3"
  },
  "language_info": {
   "codemirror_mode": {
    "name": "ipython",
    "version": 3
   },
   "file_extension": ".py",
   "mimetype": "text/x-python",
   "name": "python",
   "nbconvert_exporter": "python",
   "pygments_lexer": "ipython3",
   "version": "3.12.7"
  }
 },
 "nbformat": 4,
 "nbformat_minor": 5
}
